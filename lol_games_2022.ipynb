{
 "cells": [
  {
   "cell_type": "code",
   "execution_count": 1,
   "id": "2a1e60fd-b1f2-4fff-837f-b5070e07c974",
   "metadata": {},
   "outputs": [],
   "source": [
    "import numpy as np\n",
    "import pandas as pd"
   ]
  },
  {
   "cell_type": "code",
   "execution_count": 4,
   "id": "40a785be-6ab1-4d43-9bbc-75d1f286e63e",
   "metadata": {},
   "outputs": [],
   "source": [
    "data = pd.read_csv(\"2022_games.csv\")"
   ]
  },
  {
   "cell_type": "code",
   "execution_count": 5,
   "id": "035cd5ce-3847-439c-8921-91aabcd5e237",
   "metadata": {},
   "outputs": [],
   "source": [
    "nomC ol = data.columns"
   ]
  },
  {
   "cell_type": "code",
   "execution_count": 8,
   "id": "4565282e-4afc-4e12-85f2-86338c071a74",
   "metadata": {},
   "outputs": [],
   "source": [
    "info_game = data[[\"gameid\", \"playerid\", \"teamid\", \"datacompleteness\"]]"
   ]
  },
  {
   "cell_type": "code",
   "execution_count": 10,
   "id": "91696763-372a-498d-826f-ff75e3826e28",
   "metadata": {},
   "outputs": [
    {
     "data": {
      "text/html": [
       "<div>\n",
       "<style scoped>\n",
       "    .dataframe tbody tr th:only-of-type {\n",
       "        vertical-align: middle;\n",
       "    }\n",
       "\n",
       "    .dataframe tbody tr th {\n",
       "        vertical-align: top;\n",
       "    }\n",
       "\n",
       "    .dataframe thead th {\n",
       "        text-align: right;\n",
       "    }\n",
       "</style>\n",
       "<table border=\"1\" class=\"dataframe\">\n",
       "  <thead>\n",
       "    <tr style=\"text-align: right;\">\n",
       "      <th></th>\n",
       "      <th>gameid</th>\n",
       "      <th>playerid</th>\n",
       "      <th>teamid</th>\n",
       "      <th>datacompleteness</th>\n",
       "    </tr>\n",
       "  </thead>\n",
       "  <tbody>\n",
       "    <tr>\n",
       "      <th>53743</th>\n",
       "      <td>ESPORTSTMNT01_2870693</td>\n",
       "      <td>oe:player:63ba5c5e5bb73ace706183b5e05a27e</td>\n",
       "      <td>oe:team:8eb884e168f28402ce685bedebb5250</td>\n",
       "      <td>complete</td>\n",
       "    </tr>\n",
       "    <tr>\n",
       "      <th>53744</th>\n",
       "      <td>ESPORTSTMNT01_2870693</td>\n",
       "      <td>oe:player:14b8a13920a4db93a907d059b772b43</td>\n",
       "      <td>oe:team:8eb884e168f28402ce685bedebb5250</td>\n",
       "      <td>complete</td>\n",
       "    </tr>\n",
       "    <tr>\n",
       "      <th>53745</th>\n",
       "      <td>ESPORTSTMNT01_2870693</td>\n",
       "      <td>oe:player:05fafeaf23dc3285558a4e968970b9f</td>\n",
       "      <td>oe:team:8eb884e168f28402ce685bedebb5250</td>\n",
       "      <td>complete</td>\n",
       "    </tr>\n",
       "    <tr>\n",
       "      <th>53746</th>\n",
       "      <td>ESPORTSTMNT01_2870693</td>\n",
       "      <td>NaN</td>\n",
       "      <td>oe:team:f7f7324c151aa6ed770b244ce08e027</td>\n",
       "      <td>complete</td>\n",
       "    </tr>\n",
       "    <tr>\n",
       "      <th>53747</th>\n",
       "      <td>ESPORTSTMNT01_2870693</td>\n",
       "      <td>NaN</td>\n",
       "      <td>oe:team:8eb884e168f28402ce685bedebb5250</td>\n",
       "      <td>complete</td>\n",
       "    </tr>\n",
       "  </tbody>\n",
       "</table>\n",
       "</div>"
      ],
      "text/plain": [
       "                      gameid                                   playerid  \\\n",
       "53743  ESPORTSTMNT01_2870693  oe:player:63ba5c5e5bb73ace706183b5e05a27e   \n",
       "53744  ESPORTSTMNT01_2870693  oe:player:14b8a13920a4db93a907d059b772b43   \n",
       "53745  ESPORTSTMNT01_2870693  oe:player:05fafeaf23dc3285558a4e968970b9f   \n",
       "53746  ESPORTSTMNT01_2870693                                        NaN   \n",
       "53747  ESPORTSTMNT01_2870693                                        NaN   \n",
       "\n",
       "                                        teamid datacompleteness  \n",
       "53743  oe:team:8eb884e168f28402ce685bedebb5250         complete  \n",
       "53744  oe:team:8eb884e168f28402ce685bedebb5250         complete  \n",
       "53745  oe:team:8eb884e168f28402ce685bedebb5250         complete  \n",
       "53746  oe:team:f7f7324c151aa6ed770b244ce08e027         complete  \n",
       "53747  oe:team:8eb884e168f28402ce685bedebb5250         complete  "
      ]
     },
     "execution_count": 10,
     "metadata": {},
     "output_type": "execute_result"
    }
   ],
   "source": [
    "info_game.tail()"
   ]
  },
  {
   "cell_type": "code",
   "execution_count": 29,
   "id": "803efa35-9de7-47e7-974a-2f1a1a5929a6",
   "metadata": {},
   "outputs": [
    {
     "data": {
      "text/plain": [
       "gameid              53748\n",
       "datacompleteness    53748\n",
       "url                 53748\n",
       "league              53748\n",
       "year                53748\n",
       "                    ...  \n",
       "assistsat15         53748\n",
       "deathsat15          53748\n",
       "opp_killsat15       53748\n",
       "opp_assistsat15     53748\n",
       "opp_deathsat15      53748\n",
       "Length: 123, dtype: int64"
      ]
     },
     "execution_count": 29,
     "metadata": {},
     "output_type": "execute_result"
    }
   ],
   "source": []
  },
  {
   "cell_type": "code",
   "execution_count": 30,
   "id": "149b5530-df98-44ba-afa5-9373567ab9b0",
   "metadata": {},
   "outputs": [
    {
     "data": {
      "text/plain": [
       "(53748, 123)"
      ]
     },
     "execution_count": 30,
     "metadata": {},
     "output_type": "execute_result"
    }
   ],
   "source": [
    "data.shape"
   ]
  },
  {
   "cell_type": "code",
   "execution_count": 31,
   "id": "d38a986e-88a2-4fac-8e8b-bf62e2248bc8",
   "metadata": {},
   "outputs": [
    {
     "ename": "SyntaxError",
     "evalue": "invalid syntax (2213279192.py, line 1)",
     "output_type": "error",
     "traceback": [
      "\u001b[1;36m  Input \u001b[1;32mIn [31]\u001b[1;36m\u001b[0m\n\u001b[1;33m    SELECT *\u001b[0m\n\u001b[1;37m            ^\u001b[0m\n\u001b[1;31mSyntaxError\u001b[0m\u001b[1;31m:\u001b[0m invalid syntax\n"
     ]
    }
   ],
   "source": []
  },
  {
   "cell_type": "code",
   "execution_count": null,
   "id": "152c325f-06a1-44e6-91a9-89bb688bdb5f",
   "metadata": {},
   "outputs": [],
   "source": []
  }
 ],
 "metadata": {
  "kernelspec": {
   "display_name": "Python 3 (ipykernel)",
   "language": "python",
   "name": "python3"
  },
  "language_info": {
   "codemirror_mode": {
    "name": "ipython",
    "version": 3
   },
   "file_extension": ".py",
   "mimetype": "text/x-python",
   "name": "python",
   "nbconvert_exporter": "python",
   "pygments_lexer": "ipython3",
   "version": "3.10.2"
  }
 },
 "nbformat": 4,
 "nbformat_minor": 5
}
