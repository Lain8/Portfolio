{
 "cells": [
  {
   "cell_type": "code",
   "execution_count": 1,
   "id": "126d224d-94c3-4a0b-8589-d3cdd20d67ad",
   "metadata": {},
   "outputs": [],
   "source": [
    "import time\n",
    "import os\n",
    "import pandas as pd\n",
    "import numpy as np\n",
    "\n",
    "\n",
    "import requests\n",
    "from bs4 import BeautifulSoup\n",
    "\n",
    "\n",
    "\n",
    "import mysql\n",
    "import mysql.connector as MC\n",
    "\n"
   ]
  },
  {
   "cell_type": "code",
   "execution_count": 2,
   "id": "8153d2df-7517-446d-a10c-f9c27079ae25",
   "metadata": {},
   "outputs": [],
   "source": [
    "def store_and_rename_csv(path):\n",
    "    \n",
    "    data = pd.read_csv(path)\n",
    "#I rename thoses columns to have a correct format for the databse \n",
    "    data.rename(columns={'team kpm': 'team_kpm', 'earned gpm': 'earned_gpm', 'dragons (type unknown)': 'dragons_ukt'}, inplace=True)\n",
    "    return data\n",
    "    \n",
    "#All function about the creation of tables    \n",
    "    \n",
    "def create_game_info(data):\n",
    "    \n",
    "    game_info_table = data[[\"gameid\", \"playerid\", \"teamid\", \"datacompleteness\", \"url\", \"league\", \"year\", \"split\", \"playoffs\", \"date\", \"patch\", \"gamelength\", \"result\"]]\n",
    "    game_info_table.loc[game_info_table['patch'].isnull(), 'patch'] = 0    \n",
    "    return game_info_table\n",
    "\n",
    "def create_player_info(data):\n",
    "    player_info_table = data[[ \"playerid\", \"gameid\", \"playername\", \"position\", \"teamid\"]]\n",
    "    return player_info_table\n",
    "\n",
    "def create_draft(data):\n",
    "    draft_table = data[[ \"gameid\",\"champion\",\"participantid\",\"playerid\",\"ban1\",\"ban2\",\"ban3\",\"ban4\",\"ban5\",\"side\"]]\n",
    "    return draft_table\n",
    "\n",
    "def create_team_info(data):\n",
    "    team_info = data[[\"teamid\",\"playerid\",\"side\",\"teamname\",\"league\"]]\n",
    "    return team_info\n",
    "\n",
    "#The function which calls every others function and summuraize on a tuple\n",
    "\n",
    "def sum_all_table(data):\n",
    "    info_game_table = create_game_info(data)\n",
    "\n",
    "    info_player_table = create_player_info(data)\n",
    "\n",
    "    draft_table = create_draft(data)\n",
    "\n",
    "    team_info_table = create_team_info(data)\n",
    "    \n",
    "    return info_game_table, info_player_table, draft_table, team_info_table\n",
    "\n",
    "#Here we export the dataframe into the specific file where is my sql script in the mysql file\n",
    "\n",
    "def export_to_csv(data, name_table = \"1\"):\n",
    "    path = 'C:\\MyWamp\\mysql\\script\\league_of_legend'\n",
    "    output_file = os.path.join(path, name_table + '.csv')\n",
    "    data.to_csv(output_file, index = False)\n",
    "    return 0\n",
    "    \n",
    "    \n",
    "#This function execute SQl file which create the database, the tables and import all data\n",
    "    \n",
    "def executeScriptsFromFile(filename):\n",
    "    with open(filename, 'r') as sql_file:\n",
    "        result_iterator = cursor.execute(sql_file.read(), multi=True)\n",
    "        for res in result_iterator:\n",
    "            print(\"Running query: \", res)  # Will print out a short representation of the query\n",
    "            print(f\"Affected {res.rowcount} rows\" )\n"
   ]
  },
  {
   "cell_type": "code",
   "execution_count": 3,
   "id": "c459469d-216a-4093-8178-dd7286f38917",
   "metadata": {},
   "outputs": [],
   "source": [
    "G2022 = store_and_rename_csv(\"https://oracleselixir-downloadable-match-data.s3-us-west-2.amazonaws.com/2022_LoL_esports_match_data_from_OraclesElixir_\"+time.strftime('%Y%m%d')+\".csv\")"
   ]
  },
  {
   "cell_type": "code",
   "execution_count": 4,
   "id": "cbb3b439-38f7-40b7-9793-862fa012d84f",
   "metadata": {},
   "outputs": [],
   "source": [
    "info_game_table, info_player_table, draft_table, team_info_table = sum_all_table(G2022)"
   ]
  },
  {
   "cell_type": "code",
   "execution_count": 5,
   "id": "170d7b36-413d-443a-8967-54882ae347fd",
   "metadata": {},
   "outputs": [
    {
     "data": {
      "text/plain": [
       "0"
      ]
     },
     "execution_count": 5,
     "metadata": {},
     "output_type": "execute_result"
    }
   ],
   "source": [
    "export_to_csv(info_player_table, \"info_player_table\")\n",
    "export_to_csv(info_game_table, \"info_game_table\")\n",
    "export_to_csv(draft_table, \"draft_table\")\n",
    "export_to_csv(team_info_table, \"team_info_table\")"
   ]
  },
  {
   "cell_type": "code",
   "execution_count": 8,
   "id": "b52e12e0-e180-417a-9fdc-97fc98c39ae6",
   "metadata": {},
   "outputs": [
    {
     "name": "stdout",
     "output_type": "stream",
     "text": [
      "Running query:  CMySQLCursor: USE lol\n",
      "Affected 0 rows\n",
      "Running query:  CMySQLCursor: DROP TABLE IF EXISTS game_info\n",
      "Affected 0 rows\n",
      "Running query:  CMySQLCursor: DROP TABLE IF EXISTS player_info\n",
      "Affected 0 rows\n",
      "Running query:  CMySQLCursor: DROP TABLE IF EXISTS draft\n",
      "Affected 0 rows\n",
      "Running query:  CMySQLCursor: DROP TABLE IF EXISTS team_info\n",
      "Affected 0 rows\n",
      "Running query:  CMySQLCursor: CREATE TABLE `game_info` (\n",
      "  `gameid` VA..\n",
      "Affected 0 rows\n",
      "Running query:  CMySQLCursor: CREATE TABLE `player_info` (\n",
      "  `playerid..\n",
      "Affected 0 rows\n",
      "Running query:  CMySQLCursor: CREATE TABLE `draft` (\n",
      "  `gameid` VARCHA..\n",
      "Affected 0 rows\n",
      "Running query:  CMySQLCursor: CREATE TABLE `team_info` (\n",
      "  `teamid` VA..\n",
      "Affected 0 rows\n",
      "Running query:  CMySQLCursor: USE lol\n",
      "Affected 0 rows\n",
      "Running query:  CMySQLCursor: LOAD DATA INFILE 'C:/MyWamp/mysql/script..\n",
      "Affected 61296 rows\n",
      "Running query:  CMySQLCursor: LOAD DATA INFILE 'C:/MyWamp/mysql/script..\n",
      "Affected 61296 rows\n",
      "Running query:  CMySQLCursor: (Nothing executed yet)\n",
      "Affected 61296 rows\n",
      "Running query:  CMySQLCursor: USE lol\n",
      "Affected 61296 rows\n"
     ]
    }
   ],
   "source": [
    "#Here I connect to my Database and i lauch the script to actualise the data in my database\n",
    "try:\n",
    "    conn = mysql.connector.connect(host= \"localhost\", database = \"lol\", user=\"root\", password=\"\")\n",
    "    cursor = conn.cursor()\n",
    "    \n",
    "    executeScriptsFromFile('C:/MyWamp/mysql/script/league_of_legend/lol_games.sql')\n",
    "    executeScriptsFromFile('C:/MyWamp/mysql/script/league_of_legend/import_data.sql')\n",
    "    \n",
    "    \n",
    "except  MC.Error as err:\n",
    "    print(err)\n",
    "finally:\n",
    "    if (conn.is_connected()):\n",
    "        cursor.close()\n",
    "        conn.close()\n"
   ]
  },
  {
   "cell_type": "code",
   "execution_count": null,
   "id": "b1420d4a-dae0-4492-8d7a-0d4d7e789de3",
   "metadata": {},
   "outputs": [],
   "source": []
  }
 ],
 "metadata": {
  "kernelspec": {
   "display_name": "Python 3 (ipykernel)",
   "language": "python",
   "name": "python3"
  },
  "language_info": {
   "codemirror_mode": {
    "name": "ipython",
    "version": 3
   },
   "file_extension": ".py",
   "mimetype": "text/x-python",
   "name": "python",
   "nbconvert_exporter": "python",
   "pygments_lexer": "ipython3",
   "version": "3.10.2"
  }
 },
 "nbformat": 4,
 "nbformat_minor": 5
}
